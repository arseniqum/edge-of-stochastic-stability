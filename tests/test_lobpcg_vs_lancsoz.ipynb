{
 "cells": [
  {
   "cell_type": "code",
   "execution_count": 2,
   "id": "cd415184",
   "metadata": {},
   "outputs": [],
   "source": [
    "\"\"\"Regression tests comparing LOBPCG against SciPy's Lanczos (eigsh).\n",
    "\n",
    "The goal is to validate that our GPU-friendly LOBPCG implementation\n",
    "matches a classical Lanczos solver when applied to the Hessian of a\n",
    "small network. We check both the randomly initialised model and the\n",
    "same model after a short synthetic training run.\n",
    "\"\"\"\n",
    "\n",
    "from __future__ import annotations\n",
    "\n",
    "import numpy as np\n",
    "import pytest\n",
    "import torch\n",
    "from torch import nn\n",
    "\n",
    "import sys\n",
    "from pathlib import Path\n",
    "# Add parent directory to Python path to import from utils\n",
    "sys.path.insert(0, str(Path('..')))\n",
    "\n",
    "from utils.lobpcg_old import torch_lobpcg\n",
    "\n",
    "\n",
    "from utils.measure import create_hessian_vector_product\n",
    "from importlib import reload\n",
    "from utils.lobpcg import torch_lobpcg as torch_lobpcg_rewrite\n",
    "\n",
    "try:\n",
    "    from scipy.sparse.linalg import LinearOperator, eigsh\n",
    "except ImportError as exc:  # pragma: no cover - pytest will surface the failure\n",
    "    raise RuntimeError(\"SciPy is required for lobpcg vs Lanczos tests\") from exc"
   ]
  },
  {
   "cell_type": "code",
   "execution_count": 3,
   "id": "544988df",
   "metadata": {},
   "outputs": [],
   "source": [
    "def _lobpcg_vs_lanczos_on_matrix(A: torch.Tensor, k: int) -> tuple[torch.Tensor, torch.Tensor, torch.Tensor, torch.Tensor]:\n",
    "    \"\"\"Helper that compares eigenvalues and eigenvectors for a dense symmetric matrix.\"\"\"\n",
    "\n",
    "    assert A.shape[0] == A.shape[1], \"Matrix must be square\"\n",
    "    n = A.shape[0]\n",
    "    dtype = A.dtype\n",
    "    device = A.device\n",
    "\n",
    "    def matmul(vec: torch.Tensor) -> torch.Tensor:\n",
    "        if vec.ndim == 1:\n",
    "            return A @ vec\n",
    "        return A @ vec\n",
    "\n",
    "    init = torch.randn(n, k, device=device, dtype=dtype)\n",
    "    eigvals_lobpcg, eigvecs_lobpcg, _ = torch_lobpcg_rewrite(matmul, init, max_iter=100, tol=1e-10)\n",
    "\n",
    "    np_dtype = np.float64 if dtype == torch.float64 else np.float32\n",
    "\n",
    "    def scipy_matvec(vec: np.ndarray) -> np.ndarray:\n",
    "        torch_vec = torch.from_numpy(vec).to(device=device, dtype=dtype)\n",
    "        result = (A @ torch_vec).detach().cpu().numpy().astype(np_dtype, copy=False)\n",
    "        return result\n",
    "\n",
    "    linear_op = LinearOperator(\n",
    "        shape=(n, n),\n",
    "        matvec=scipy_matvec,\n",
    "        dtype=np_dtype,\n",
    "    )\n",
    "    eigvals_lanczos, eigvecs_lanczos = eigsh(linear_op, k=k, which=\"LM\", tol=1e-10, maxiter=500)\n",
    "    \n",
    "    # Sort eigenvalues and eigenvectors in descending order\n",
    "    sort_idx = np.argsort(eigvals_lanczos)[::-1]\n",
    "    eigvals_lanczos = eigvals_lanczos[sort_idx]\n",
    "    eigvecs_lanczos = eigvecs_lanczos[:, sort_idx]\n",
    "\n",
    "    return (\n",
    "        eigvals_lobpcg.detach().cpu(), \n",
    "        eigvecs_lobpcg.detach().cpu(),\n",
    "        torch.from_numpy(eigvals_lanczos.copy()).to(dtype),\n",
    "        torch.from_numpy(eigvecs_lanczos.copy()).to(dtype)\n",
    "    )\n",
    "\n",
    "\n",
    "def test_lobpcg_matches_lanczos_on_random_matrix() -> None:\n",
    "    \"\"\"Sanity check LOBPCG against Lanczos on a small random SPD matrix.\"\"\"\n",
    "    torch.manual_seed(2352)\n",
    "    n = 16\n",
    "    k = 3\n",
    "    base = torch.randn(n, n, dtype=torch.float32)\n",
    "    A = base @ base.T + 0.5 * torch.eye(n, dtype=torch.float32)\n",
    "\n",
    "    lobpcg_vals, lobpcg_vecs, lanczos_vals, lanczos_vecs = _lobpcg_vs_lanczos_on_matrix(A, k)\n",
    "\n",
    "    print(\"LOBPCG eigenvalues:\", lobpcg_vals)\n",
    "    print(\"Lanczos eigenvalues:\", lanczos_vals)\n",
    "\n",
    "    # Test eigenvalue agreement\n",
    "    # torch.testing.assert_close(lobpcg_vals, lanczos_vals, rtol=1e-6, atol=1e-8)\n",
    "    \n",
    "    # Test that eigenvectors satisfy A*v = λ*v for both methods\n",
    "    print(\"\\nVerifying LOBPCG eigenvectors:\")\n",
    "    for i in range(k):\n",
    "        v = lobpcg_vecs[:, i]\n",
    "        λ = lobpcg_vals[i]\n",
    "        residual = torch.norm(A @ v - λ * v)\n",
    "        print(f\"  Eigenvector {i}: ||Av - λv|| = {residual:.2e}\")\n",
    "        # assert residual < 1e-4, f\"LOBPCG eigenvector {i} has large residual: {residual}\"\n",
    "    \n",
    "    print(\"\\nVerifying Lanczos eigenvectors:\")\n",
    "    for i in range(k):\n",
    "        v = lanczos_vecs[:, i]\n",
    "        λ = lanczos_vals[i]\n",
    "        residual = torch.norm(A @ v - λ * v)\n",
    "        print(f\"  Eigenvector {i}: ||Av - λv|| = {residual:.2e}\")\n",
    "        assert residual < 1e-4, f\"Lanczos eigenvector {i} has large residual: {residual}\"\n"
   ]
  },
  {
   "cell_type": "code",
   "execution_count": 4,
   "id": "ea33e30b",
   "metadata": {},
   "outputs": [
    {
     "name": "stdout",
     "output_type": "stream",
     "text": [
      "LOBPCG eigenvalues: tensor([60.2970, 45.4289, 34.1045])\n",
      "Lanczos eigenvalues: tensor([60.2970, 45.4289, 34.1045])\n",
      "\n",
      "Verifying LOBPCG eigenvectors:\n",
      "  Eigenvector 0: ||Av - λv|| = 1.07e-05\n",
      "  Eigenvector 1: ||Av - λv|| = 1.33e-04\n",
      "  Eigenvector 2: ||Av - λv|| = 1.02e-04\n",
      "\n",
      "Verifying Lanczos eigenvectors:\n",
      "  Eigenvector 0: ||Av - λv|| = 1.45e-05\n",
      "  Eigenvector 1: ||Av - λv|| = 1.19e-05\n",
      "  Eigenvector 2: ||Av - λv|| = 9.16e-06\n"
     ]
    }
   ],
   "source": [
    "test_lobpcg_matches_lanczos_on_random_matrix()"
   ]
  },
  {
   "cell_type": "code",
   "execution_count": 4,
   "id": "3dda68bb",
   "metadata": {},
   "outputs": [
    {
     "data": {
      "text/plain": [
       "1.1920928955078125e-07"
      ]
     },
     "execution_count": 4,
     "metadata": {},
     "output_type": "execute_result"
    }
   ],
   "source": [
    "dt = torch.float32\n",
    "torch.finfo(dt).eps"
   ]
  },
  {
   "cell_type": "code",
   "execution_count": null,
   "id": "97580815",
   "metadata": {},
   "outputs": [],
   "source": []
  }
 ],
 "metadata": {
  "kernelspec": {
   "display_name": "dl",
   "language": "python",
   "name": "python3"
  },
  "language_info": {
   "codemirror_mode": {
    "name": "ipython",
    "version": 3
   },
   "file_extension": ".py",
   "mimetype": "text/x-python",
   "name": "python",
   "nbconvert_exporter": "python",
   "pygments_lexer": "ipython3",
   "version": "3.12.11"
  }
 },
 "nbformat": 4,
 "nbformat_minor": 5
}
